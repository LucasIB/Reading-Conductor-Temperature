{
 "cells": [
  {
   "cell_type": "markdown",
   "metadata": {},
   "source": [
    "<a href=\"http://lnls.cnpem.br/\"><img src=\"http://fig.if.usp.br/~biofisic/images/logo_lnls.jpg\" style=\"width:90px; float: left;\"></a><h1> Reading Cordoalha Temperature  </h1>\n",
    "\n",
    "----"
   ]
  },
  {
   "cell_type": "markdown",
   "metadata": {},
   "source": [
    "> Analyzing temperature data from PT100 and Data Acquisition Keysight 34970A - 'Cordoalha 50,00 mm²'.\n"
   ]
  },
  {
   "cell_type": "code",
   "execution_count": 1,
   "metadata": {
    "collapsed": false
   },
   "outputs": [
    {
     "data": {
      "text/plain": [
       "'\\nCreated on 06/07/2017\\n@author: lucas.balthazar\\n'"
      ]
     },
     "execution_count": 1,
     "metadata": {},
     "output_type": "execute_result"
    }
   ],
   "source": [
    "'''\n",
    "Created on 06/07/2017\n",
    "@author: lucas.balthazar\n",
    "'''"
   ]
  },
  {
   "cell_type": "code",
   "execution_count": 2,
   "metadata": {
    "collapsed": false
   },
   "outputs": [],
   "source": [
    "import matplotlib.pyplot as plt\n",
    "import numpy as np\n",
    "from matplotlib import style\n",
    "import sys\n",
    "from sympy import *\n",
    "from PySide import QtGui\n",
    "init_printing()"
   ]
  },
  {
   "cell_type": "code",
   "execution_count": 3,
   "metadata": {
    "collapsed": true
   },
   "outputs": [],
   "source": [
    "# Modifying the plot style\n",
    "style.use('fivethirtyeight')"
   ]
  },
  {
   "cell_type": "code",
   "execution_count": 4,
   "metadata": {
    "collapsed": true
   },
   "outputs": [],
   "source": [
    "# Plot in line, if necessary\n",
    "%matplotlib inline "
   ]
  },
  {
   "cell_type": "code",
   "execution_count": 5,
   "metadata": {
    "collapsed": true
   },
   "outputs": [],
   "source": [
    "# Variables\n",
    "x = symbols('x')\n",
    "yx = symbols('y(x)')"
   ]
  },
  {
   "cell_type": "code",
   "execution_count": 6,
   "metadata": {
    "collapsed": false
   },
   "outputs": [
    {
     "data": {
      "text/plain": [
       "<matplotlib.text.Text at 0xc0ba6d8>"
      ]
     },
     "execution_count": 6,
     "metadata": {},
     "output_type": "execute_result"
    },
    {
     "data": {
      "image/png": "[encoded data removed]",
      "text/plain": [
       "<matplotlib.figure.Figure at 0x99246d8>"
      ]
     },
     "metadata": {},
     "output_type": "display_data"
    }
   ],
   "source": [
    "## select file\n",
    "Data = np.array([])\n",
    "temp_arr = []\n",
    "\n",
    "try:\n",
    "    app=QtGui.QApplication.instance()\n",
    "    if not app:\n",
    "        app = QtGui.QApplication(sys.argv)\n",
    "    file_path = QtGui.QFileDialog.getOpenFileNames()\n",
    "    files = file_path[0]\n",
    "except:\n",
    "    raise TypeError (\"Can't select file\")\n",
    "    #print(\"Can't select Fail\")\n",
    "\n",
    "## open and read file\n",
    "try:\n",
    "    arq = open(files[0],'r')\n",
    "except:\n",
    "    raise TypeError (\"Can't read file\")\n",
    "    #print(\"Can't read file\")\n",
    "\n",
    "config = arq.read().split('\\n')\n",
    "arq.close()\n",
    "\n",
    "for i in range(1, len(config)-1):\n",
    "    config[i]=config[i].split('\\t')\n",
    "    temp = config[i][3].format(\"{0:.2f}\")\n",
    "    temp_arr.append(float(temp))\n",
    "plt.plot(temp_arr)\n",
    "plt.grid(True)\n",
    "plt.ylabel('Temp [°C]')\n",
    "plt.xlabel('#Samples')\n",
    "plt.suptitle('#Samples - delta = 5s')\n",
    "\n"
   ]
  },
  {
   "cell_type": "code",
   "execution_count": 7,
   "metadata": {
    "collapsed": false
   },
   "outputs": [
    {
     "name": "stdout",
     "output_type": "stream",
     "text": [
      "          5             4             3             2\n",
      "7.99e-13 x - 1.849e-09 x + 1.685e-06 x - 0.0007678 x + 0.1808 x + 21.76\n"
     ]
    }
   ],
   "source": [
    "vector = np.asarray(temp_arr, dtype=float)\n",
    "a = np.linspace(1,720,720)\n",
    "comp = len(vector)\n",
    "poly = np.polyfit(a,vector,5)\n",
    "ploy1d = np.poly1d(poly)\n",
    "print(ploy1d)"
   ]
  },
  {
   "cell_type": "code",
   "execution_count": 8,
   "metadata": {
    "collapsed": false
   },
   "outputs": [
    {
     "data": {
      "text/plain": [
       "[<matplotlib.lines.Line2D at 0xc1c19e8>]"
      ]
     },
     "execution_count": 8,
     "metadata": {},
     "output_type": "execute_result"
    },
    {
     "data": {
      "image/png": "[encoded data removed]",
      "text/plain": [
       "<matplotlib.figure.Figure at 0x4623518>"
      ]
     },
     "metadata": {},
     "output_type": "display_data"
    }
   ],
   "source": [
    "poly_fit_graph = []\n",
    "for i in range(len(a)):   \n",
    "    num = ploy1d(i)\n",
    "    poly_fit_graph.append(float(num))\n",
    "plt.plot(poly_fit_graph)\n"
   ]
  },
  {
   "cell_type": "markdown",
   "metadata": {},
   "source": [
    "### Fit polynomial curve for increase temperature for Cordoalha (50.00 mm²)"
   ]
  },
  {
   "cell_type": "code",
   "execution_count": 9,
   "metadata": {
    "collapsed": false
   },
   "outputs": [
    {
     "data": {
      "text/plain": [
       "<matplotlib.legend.Legend at 0x991c7f0>"
      ]
     },
     "execution_count": 9,
     "metadata": {},
     "output_type": "execute_result"
    },
    {
     "data": {
      "image/png": "[encoded data removed]",
      "text/plain": [
       "<matplotlib.figure.Figure at 0x991c710>"
      ]
     },
     "metadata": {},
     "output_type": "display_data"
    }
   ],
   "source": [
    "plt.plot(a,temp_arr,'o', a ,poly_fit_graph,'-')\n",
    "plt.legend(['Data','curve_fit'], loc='best')"
   ]
  },
  {
   "cell_type": "code",
   "execution_count": 10,
   "metadata": {
    "collapsed": false
   },
   "outputs": [
    {
     "data": {
      "image/png": "[encoded data removed]",
      "text/latex": [
       "$$y(x) = 7.99 \\cdot 10^{-13} x^{5} - 1.849 \\cdot 10^{-9} x^{4} + 1.685 \\cdot 10^{-6} x^{3} - 0.0007678 x^{2} + 0.1808 x + 21.76$$"
      ],
      "text/plain": [
       "                 5             4             3              2                 \n",
       "y(x) = 7.99e-13⋅x  - 1.849e-9⋅x  + 1.685e-6⋅x  - 0.0007678⋅x  + 0.1808⋅x + 21.\n",
       "\n",
       "  \n",
       "76"
      ]
     },
     "execution_count": 10,
     "metadata": {},
     "output_type": "execute_result"
    }
   ],
   "source": [
    "Equa = Eq(yx,7.99e-13*x**5-1.849e-09*x**4+1.685e-6*x**3-7.678e-04*x**2+1.808e-01*x+21.76)\n",
    "Equa"
   ]
  }
 ],
 "metadata": {
  "kernelspec": {
   "display_name": "Python 3",
   "language": "python",
   "name": "python3"
  },
  "language_info": {
   "codemirror_mode": {
    "name": "ipython",
    "version": 3
   },
   "file_extension": ".py",
   "mimetype": "text/x-python",
   "name": "python",
   "nbconvert_exporter": "python",
   "pygments_lexer": "ipython3",
   "version": "3.4.1"
  }
 },
 "nbformat": 4,
 "nbformat_minor": 0
}
